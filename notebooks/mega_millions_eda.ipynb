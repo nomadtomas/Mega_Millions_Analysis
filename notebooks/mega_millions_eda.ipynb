{
 "cells": [
  {
   "cell_type": "code",
   "execution_count": 36,
   "metadata": {},
   "outputs": [],
   "source": [
    "import pandas as pd\n",
    "import numpy as np"
   ]
  },
  {
   "cell_type": "code",
   "execution_count": 429,
   "metadata": {},
   "outputs": [],
   "source": [
    "import matplotlib.pyplot as plt\n",
    "import matplotlib.ticker as ticker\n",
    "import seaborn as sns\n",
    "%matplotlib inline\n",
    "plt.style.use('seaborn')\n",
    "\n",
    "from datetime import date\n",
    "today = date.today()"
   ]
  },
  {
   "cell_type": "code",
   "execution_count": 87,
   "metadata": {},
   "outputs": [],
   "source": [
    "#read in the data file\n",
    "df = pd.read_csv('../data/mega_millions_winning_numbers.csv', parse_dates=['Draw Date'])"
   ]
  },
  {
   "cell_type": "code",
   "execution_count": 92,
   "metadata": {},
   "outputs": [
    {
     "data": {
      "text/html": [
       "<div>\n",
       "<style scoped>\n",
       "    .dataframe tbody tr th:only-of-type {\n",
       "        vertical-align: middle;\n",
       "    }\n",
       "\n",
       "    .dataframe tbody tr th {\n",
       "        vertical-align: top;\n",
       "    }\n",
       "\n",
       "    .dataframe thead th {\n",
       "        text-align: right;\n",
       "    }\n",
       "</style>\n",
       "<table border=\"1\" class=\"dataframe\">\n",
       "  <thead>\n",
       "    <tr style=\"text-align: right;\">\n",
       "      <th></th>\n",
       "      <th>Draw Date</th>\n",
       "      <th>Winning Numbers</th>\n",
       "      <th>Mega Ball</th>\n",
       "      <th>Multiplier</th>\n",
       "      <th>first</th>\n",
       "      <th>second</th>\n",
       "      <th>third</th>\n",
       "      <th>fourth</th>\n",
       "      <th>fifth</th>\n",
       "    </tr>\n",
       "  </thead>\n",
       "  <tbody>\n",
       "    <tr>\n",
       "      <td>1849</td>\n",
       "      <td>2020-03-17</td>\n",
       "      <td>20 27 28 58 59</td>\n",
       "      <td>25</td>\n",
       "      <td>3.0</td>\n",
       "      <td>20</td>\n",
       "      <td>27</td>\n",
       "      <td>28</td>\n",
       "      <td>58</td>\n",
       "      <td>59</td>\n",
       "    </tr>\n",
       "    <tr>\n",
       "      <td>1850</td>\n",
       "      <td>2020-03-20</td>\n",
       "      <td>34 35 41 45 54</td>\n",
       "      <td>5</td>\n",
       "      <td>4.0</td>\n",
       "      <td>34</td>\n",
       "      <td>35</td>\n",
       "      <td>41</td>\n",
       "      <td>45</td>\n",
       "      <td>54</td>\n",
       "    </tr>\n",
       "    <tr>\n",
       "      <td>1851</td>\n",
       "      <td>2020-03-24</td>\n",
       "      <td>02 08 16 18 31</td>\n",
       "      <td>14</td>\n",
       "      <td>2.0</td>\n",
       "      <td>02</td>\n",
       "      <td>08</td>\n",
       "      <td>16</td>\n",
       "      <td>18</td>\n",
       "      <td>31</td>\n",
       "    </tr>\n",
       "    <tr>\n",
       "      <td>1852</td>\n",
       "      <td>2020-03-27</td>\n",
       "      <td>03 25 28 50 60</td>\n",
       "      <td>1</td>\n",
       "      <td>4.0</td>\n",
       "      <td>03</td>\n",
       "      <td>25</td>\n",
       "      <td>28</td>\n",
       "      <td>50</td>\n",
       "      <td>60</td>\n",
       "    </tr>\n",
       "    <tr>\n",
       "      <td>1853</td>\n",
       "      <td>2020-03-31</td>\n",
       "      <td>08 17 51 57 70</td>\n",
       "      <td>2</td>\n",
       "      <td>4.0</td>\n",
       "      <td>08</td>\n",
       "      <td>17</td>\n",
       "      <td>51</td>\n",
       "      <td>57</td>\n",
       "      <td>70</td>\n",
       "    </tr>\n",
       "  </tbody>\n",
       "</table>\n",
       "</div>"
      ],
      "text/plain": [
       "      Draw Date Winning Numbers  Mega Ball  Multiplier first second third  \\\n",
       "1849 2020-03-17  20 27 28 58 59         25         3.0    20     27    28   \n",
       "1850 2020-03-20  34 35 41 45 54          5         4.0    34     35    41   \n",
       "1851 2020-03-24  02 08 16 18 31         14         2.0    02     08    16   \n",
       "1852 2020-03-27  03 25 28 50 60          1         4.0    03     25    28   \n",
       "1853 2020-03-31  08 17 51 57 70          2         4.0    08     17    51   \n",
       "\n",
       "     fourth fifth  \n",
       "1849     58    59  \n",
       "1850     45    54  \n",
       "1851     18    31  \n",
       "1852     50    60  \n",
       "1853     57    70  "
      ]
     },
     "execution_count": 92,
     "metadata": {},
     "output_type": "execute_result"
    }
   ],
   "source": [
    "df.tail()"
   ]
  },
  {
   "cell_type": "code",
   "execution_count": 93,
   "metadata": {},
   "outputs": [],
   "source": [
    "#split the winning numbers column, into multiple columns\n",
    "df[['first','second','third', 'fourth', 'fifth']] = df.loc[:,'Winning Numbers'].apply( \n",
    "   lambda x: pd.Series(str(x).split(\" \"))) "
   ]
  },
  {
   "cell_type": "code",
   "execution_count": 94,
   "metadata": {},
   "outputs": [
    {
     "data": {
      "text/html": [
       "<div>\n",
       "<style scoped>\n",
       "    .dataframe tbody tr th:only-of-type {\n",
       "        vertical-align: middle;\n",
       "    }\n",
       "\n",
       "    .dataframe tbody tr th {\n",
       "        vertical-align: top;\n",
       "    }\n",
       "\n",
       "    .dataframe thead th {\n",
       "        text-align: right;\n",
       "    }\n",
       "</style>\n",
       "<table border=\"1\" class=\"dataframe\">\n",
       "  <thead>\n",
       "    <tr style=\"text-align: right;\">\n",
       "      <th></th>\n",
       "      <th>Draw Date</th>\n",
       "      <th>Winning Numbers</th>\n",
       "      <th>Mega Ball</th>\n",
       "      <th>Multiplier</th>\n",
       "      <th>first</th>\n",
       "      <th>second</th>\n",
       "      <th>third</th>\n",
       "      <th>fourth</th>\n",
       "      <th>fifth</th>\n",
       "    </tr>\n",
       "  </thead>\n",
       "  <tbody>\n",
       "    <tr>\n",
       "      <td>0</td>\n",
       "      <td>2002-05-17</td>\n",
       "      <td>15 18 25 33 47</td>\n",
       "      <td>30</td>\n",
       "      <td>NaN</td>\n",
       "      <td>15</td>\n",
       "      <td>18</td>\n",
       "      <td>25</td>\n",
       "      <td>33</td>\n",
       "      <td>47</td>\n",
       "    </tr>\n",
       "    <tr>\n",
       "      <td>1</td>\n",
       "      <td>2002-05-21</td>\n",
       "      <td>04 28 39 41 44</td>\n",
       "      <td>9</td>\n",
       "      <td>NaN</td>\n",
       "      <td>04</td>\n",
       "      <td>28</td>\n",
       "      <td>39</td>\n",
       "      <td>41</td>\n",
       "      <td>44</td>\n",
       "    </tr>\n",
       "    <tr>\n",
       "      <td>2</td>\n",
       "      <td>2002-05-24</td>\n",
       "      <td>02 04 32 44 52</td>\n",
       "      <td>36</td>\n",
       "      <td>NaN</td>\n",
       "      <td>02</td>\n",
       "      <td>04</td>\n",
       "      <td>32</td>\n",
       "      <td>44</td>\n",
       "      <td>52</td>\n",
       "    </tr>\n",
       "    <tr>\n",
       "      <td>3</td>\n",
       "      <td>2002-05-28</td>\n",
       "      <td>06 21 22 29 32</td>\n",
       "      <td>24</td>\n",
       "      <td>NaN</td>\n",
       "      <td>06</td>\n",
       "      <td>21</td>\n",
       "      <td>22</td>\n",
       "      <td>29</td>\n",
       "      <td>32</td>\n",
       "    </tr>\n",
       "    <tr>\n",
       "      <td>4</td>\n",
       "      <td>2002-05-31</td>\n",
       "      <td>12 28 45 46 52</td>\n",
       "      <td>47</td>\n",
       "      <td>NaN</td>\n",
       "      <td>12</td>\n",
       "      <td>28</td>\n",
       "      <td>45</td>\n",
       "      <td>46</td>\n",
       "      <td>52</td>\n",
       "    </tr>\n",
       "  </tbody>\n",
       "</table>\n",
       "</div>"
      ],
      "text/plain": [
       "   Draw Date Winning Numbers  Mega Ball  Multiplier first second third fourth  \\\n",
       "0 2002-05-17  15 18 25 33 47         30         NaN    15     18    25     33   \n",
       "1 2002-05-21  04 28 39 41 44          9         NaN    04     28    39     41   \n",
       "2 2002-05-24  02 04 32 44 52         36         NaN    02     04    32     44   \n",
       "3 2002-05-28  06 21 22 29 32         24         NaN    06     21    22     29   \n",
       "4 2002-05-31  12 28 45 46 52         47         NaN    12     28    45     46   \n",
       "\n",
       "  fifth  \n",
       "0    47  \n",
       "1    44  \n",
       "2    52  \n",
       "3    32  \n",
       "4    52  "
      ]
     },
     "execution_count": 94,
     "metadata": {},
     "output_type": "execute_result"
    }
   ],
   "source": [
    "df.head()"
   ]
  },
  {
   "cell_type": "code",
   "execution_count": 95,
   "metadata": {},
   "outputs": [
    {
     "name": "stdout",
     "output_type": "stream",
     "text": [
      "<class 'pandas.core.frame.DataFrame'>\n",
      "RangeIndex: 1854 entries, 0 to 1853\n",
      "Data columns (total 9 columns):\n",
      "Draw Date          1854 non-null datetime64[ns]\n",
      "Winning Numbers    1854 non-null object\n",
      "Mega Ball          1854 non-null int64\n",
      "Multiplier         951 non-null float64\n",
      "first              1854 non-null object\n",
      "second             1854 non-null object\n",
      "third              1854 non-null object\n",
      "fourth             1854 non-null object\n",
      "fifth              1854 non-null object\n",
      "dtypes: datetime64[ns](1), float64(1), int64(1), object(6)\n",
      "memory usage: 130.5+ KB\n"
     ]
    }
   ],
   "source": [
    "df.info()"
   ]
  },
  {
   "cell_type": "markdown",
   "metadata": {},
   "source": [
    "## There have been 1,854 drawings since May 17, 2002 to March 31, 2020"
   ]
  },
  {
   "cell_type": "code",
   "execution_count": 96,
   "metadata": {},
   "outputs": [],
   "source": [
    "#concat all columns into one to get unique numbers\n",
    "nums = pd.concat([df['first'], df['second'], df['third'], df['fourth'], df['fifth']], axis=0)"
   ]
  },
  {
   "cell_type": "code",
   "execution_count": 97,
   "metadata": {},
   "outputs": [
    {
     "data": {
      "text/plain": [
       "array(['01', '02', '03', '04', '05', '06', '07', '08', '09', '10', '11',\n",
       "       '12', '13', '14', '15', '16', '17', '18', '19', '20', '21', '22',\n",
       "       '23', '24', '25', '26', '27', '28', '29', '30', '31', '32', '33',\n",
       "       '34', '35', '36', '37', '38', '39', '40', '41', '42', '43', '44',\n",
       "       '45', '46', '47', '48', '49', '50', '51', '52', '53', '54', '55',\n",
       "       '56', '57', '58', '59', '60', '61', '62', '63', '64', '65', '66',\n",
       "       '67', '68', '69', '70', '71', '72', '73', '74', '75'], dtype='<U2')"
      ]
     },
     "execution_count": 97,
     "metadata": {},
     "output_type": "execute_result"
    }
   ],
   "source": [
    "#all unique numbers\n",
    "np.unique(sorted(nums))"
   ]
  },
  {
   "cell_type": "markdown",
   "metadata": {},
   "source": [
    "### As you can see from the array above, we have numbers up to 75, something that as of the date of the analysis is not allowed any more.  MegaMillions has changed to only 70 numbers as of Oct. 28, 2017"
   ]
  },
  {
   "cell_type": "markdown",
   "metadata": {},
   "source": [
    "<TABLE>\n",
    "   <TR>    \n",
    "       <TH>Starting Date</TH>\n",
    "       <TH>Pick 5 White Balls From Field of</TH>\n",
    "       <TH>Pick 1 Gold (Mega) Ball From Field of</TH>\n",
    "       <TH>Jackpot odds</TH>\n",
    "   </TR>\n",
    "   <TR>\n",
    "      <TD>September 6, 1996</TD>\n",
    "      <TD>50</TD>\n",
    "      <TD>25</TD>\n",
    "      <TD>1: 52,969,000</TD>\n",
    "   </TR>\n",
    "   <TR>\n",
    "      <TD>January 13, 1999</TD>\n",
    "      <TD>50</TD>\n",
    "      <TD>36</TD>\n",
    "      <TD>1: 76,275,360</TD>\n",
    "   </TR>\n",
    "   <TR>\n",
    "      <TD>May 15, 2002</TD>\n",
    "      <TD>52</TD>\n",
    "      <TD>52</TD>\n",
    "      <TD>1: 135,145,920</TD>\n",
    "   </TR>\n",
    "   <TR>\n",
    "      <TD>June 22, 2005</TD>\n",
    "      <TD>56</TD>\n",
    "      <TD>46</TD>\n",
    "      <TD>1: 175,711,536</TD>\n",
    "   </TR>\n",
    "   <TR>\n",
    "      <TD>October 19, 2013</TD>\n",
    "      <TD>75</TD>\n",
    "      <TD>15</TD>\n",
    "      <TD>1: 258,890,850</TD>\n",
    "   </TR>\n",
    "   <TR>\n",
    "      <TD>October 28, 2017</TD>\n",
    "      <TD>70</TD>\n",
    "      <TD>25</TD>\n",
    "      <TD>1: 302,575,350</TD>\n",
    "   </TR>\n",
    "</TABLE>"
   ]
  },
  {
   "cell_type": "code",
   "execution_count": 98,
   "metadata": {},
   "outputs": [],
   "source": [
    "#dataframe of winning numbers, excluding mega ball number\n",
    "num_df = pd.DataFrame(nums.value_counts()).reset_index()\n",
    "num_df.columns=['number', 'count']"
   ]
  },
  {
   "cell_type": "code",
   "execution_count": 99,
   "metadata": {},
   "outputs": [
    {
     "data": {
      "text/html": [
       "<div>\n",
       "<style scoped>\n",
       "    .dataframe tbody tr th:only-of-type {\n",
       "        vertical-align: middle;\n",
       "    }\n",
       "\n",
       "    .dataframe tbody tr th {\n",
       "        vertical-align: top;\n",
       "    }\n",
       "\n",
       "    .dataframe thead th {\n",
       "        text-align: right;\n",
       "    }\n",
       "</style>\n",
       "<table border=\"1\" class=\"dataframe\">\n",
       "  <thead>\n",
       "    <tr style=\"text-align: right;\">\n",
       "      <th></th>\n",
       "      <th>number</th>\n",
       "      <th>count</th>\n",
       "    </tr>\n",
       "  </thead>\n",
       "  <tbody>\n",
       "    <tr>\n",
       "      <td>0</td>\n",
       "      <td>31</td>\n",
       "      <td>186</td>\n",
       "    </tr>\n",
       "    <tr>\n",
       "      <td>1</td>\n",
       "      <td>51</td>\n",
       "      <td>176</td>\n",
       "    </tr>\n",
       "    <tr>\n",
       "      <td>2</td>\n",
       "      <td>02</td>\n",
       "      <td>176</td>\n",
       "    </tr>\n",
       "    <tr>\n",
       "      <td>3</td>\n",
       "      <td>14</td>\n",
       "      <td>176</td>\n",
       "    </tr>\n",
       "    <tr>\n",
       "      <td>4</td>\n",
       "      <td>10</td>\n",
       "      <td>176</td>\n",
       "    </tr>\n",
       "  </tbody>\n",
       "</table>\n",
       "</div>"
      ],
      "text/plain": [
       "  number  count\n",
       "0     31    186\n",
       "1     51    176\n",
       "2     02    176\n",
       "3     14    176\n",
       "4     10    176"
      ]
     },
     "execution_count": 99,
     "metadata": {},
     "output_type": "execute_result"
    }
   ],
   "source": [
    "#top 5 most common numbers as of 2002-05-17\n",
    "num_df.head()"
   ]
  },
  {
   "cell_type": "code",
   "execution_count": 100,
   "metadata": {},
   "outputs": [
    {
     "data": {
      "text/plain": [
       "'02 10 14 31 51'"
      ]
     },
     "execution_count": 100,
     "metadata": {},
     "output_type": "execute_result"
    }
   ],
   "source": [
    "#sorting and assigning the top numbers to a variable\n",
    "top_pick = ' '.join(sorted(num_df['number'].head()))\n",
    "top_pick"
   ]
  },
  {
   "cell_type": "code",
   "execution_count": 101,
   "metadata": {},
   "outputs": [
    {
     "data": {
      "text/html": [
       "<div>\n",
       "<style scoped>\n",
       "    .dataframe tbody tr th:only-of-type {\n",
       "        vertical-align: middle;\n",
       "    }\n",
       "\n",
       "    .dataframe tbody tr th {\n",
       "        vertical-align: top;\n",
       "    }\n",
       "\n",
       "    .dataframe thead th {\n",
       "        text-align: right;\n",
       "    }\n",
       "</style>\n",
       "<table border=\"1\" class=\"dataframe\">\n",
       "  <thead>\n",
       "    <tr style=\"text-align: right;\">\n",
       "      <th></th>\n",
       "      <th>Draw Date</th>\n",
       "      <th>Winning Numbers</th>\n",
       "      <th>Mega Ball</th>\n",
       "      <th>Multiplier</th>\n",
       "      <th>first</th>\n",
       "      <th>second</th>\n",
       "      <th>third</th>\n",
       "      <th>fourth</th>\n",
       "      <th>fifth</th>\n",
       "    </tr>\n",
       "  </thead>\n",
       "  <tbody>\n",
       "  </tbody>\n",
       "</table>\n",
       "</div>"
      ],
      "text/plain": [
       "Empty DataFrame\n",
       "Columns: [Draw Date, Winning Numbers, Mega Ball, Multiplier, first, second, third, fourth, fifth]\n",
       "Index: []"
      ]
     },
     "execution_count": 101,
     "metadata": {},
     "output_type": "execute_result"
    }
   ],
   "source": [
    "#checking if this particular combination has ever won...(no it has not)\n",
    "df[df['Winning Numbers']==top_pick]"
   ]
  },
  {
   "cell_type": "code",
   "execution_count": 102,
   "metadata": {},
   "outputs": [
    {
     "data": {
      "text/plain": [
       "'71 72 73 74 75'"
      ]
     },
     "execution_count": 102,
     "metadata": {},
     "output_type": "execute_result"
    }
   ],
   "source": [
    "#sorting and assigning the bottom numbers to a variable\n",
    "bottom_pick = ' '.join(sorted(num_df['number'].tail()))\n",
    "bottom_pick"
   ]
  },
  {
   "cell_type": "code",
   "execution_count": 103,
   "metadata": {},
   "outputs": [
    {
     "data": {
      "text/html": [
       "<div>\n",
       "<style scoped>\n",
       "    .dataframe tbody tr th:only-of-type {\n",
       "        vertical-align: middle;\n",
       "    }\n",
       "\n",
       "    .dataframe tbody tr th {\n",
       "        vertical-align: top;\n",
       "    }\n",
       "\n",
       "    .dataframe thead th {\n",
       "        text-align: right;\n",
       "    }\n",
       "</style>\n",
       "<table border=\"1\" class=\"dataframe\">\n",
       "  <thead>\n",
       "    <tr style=\"text-align: right;\">\n",
       "      <th></th>\n",
       "      <th>Draw Date</th>\n",
       "      <th>Winning Numbers</th>\n",
       "      <th>Mega Ball</th>\n",
       "      <th>Multiplier</th>\n",
       "      <th>first</th>\n",
       "      <th>second</th>\n",
       "      <th>third</th>\n",
       "      <th>fourth</th>\n",
       "      <th>fifth</th>\n",
       "    </tr>\n",
       "  </thead>\n",
       "  <tbody>\n",
       "  </tbody>\n",
       "</table>\n",
       "</div>"
      ],
      "text/plain": [
       "Empty DataFrame\n",
       "Columns: [Draw Date, Winning Numbers, Mega Ball, Multiplier, first, second, third, fourth, fifth]\n",
       "Index: []"
      ]
     },
     "execution_count": 103,
     "metadata": {},
     "output_type": "execute_result"
    }
   ],
   "source": [
    "#checking if this particular combination has ever won...(no it has not)\n",
    "df[df['Winning Numbers']==bottom_pick]"
   ]
  },
  {
   "cell_type": "code",
   "execution_count": 104,
   "metadata": {},
   "outputs": [],
   "source": [
    "sort_nums = nums.sort_values()"
   ]
  },
  {
   "cell_type": "code",
   "execution_count": 220,
   "metadata": {},
   "outputs": [
    {
     "data": {
      "image/png": "[encoded data removed]",
      "text/plain": [
       "<Figure size 1080x504 with 1 Axes>"
      ]
     },
     "metadata": {},
     "output_type": "display_data"
    }
   ],
   "source": [
    "#plotting the frequency distribution of the lottery numbers \n",
    "sort_nums.hist(bins=75, figsize=(15,7), xrot=60)\n",
    "plt.title('Lottery Frequency Distribution From: (2002-05-17 to 2020-03-31)')\n",
    "plt.ylabel('Frequency')\n",
    "plt.xlabel('Lottery Numbers')\n",
    "plt.savefig('../images/allnumhist.png')\n",
    "plt.show()"
   ]
  },
  {
   "cell_type": "markdown",
   "metadata": {},
   "source": [
    "### Given that all numbers should be equally likely to be picked, we should expect a uniform distribution, which it is fairly consistent to what is shown.  Since numbers were added after at different time periods it is okay to see numbers greater than 70 show up less. "
   ]
  },
  {
   "cell_type": "code",
   "execution_count": 106,
   "metadata": {},
   "outputs": [],
   "source": [
    "nums_less_52 = [x for x in nums if x < '53']\n",
    "nums_less_52.sort()"
   ]
  },
  {
   "cell_type": "code",
   "execution_count": 219,
   "metadata": {},
   "outputs": [
    {
     "data": {
      "image/png": "[encoded data removed]",
      "text/plain": [
       "<Figure size 1080x504 with 1 Axes>"
      ]
     },
     "metadata": {},
     "output_type": "display_data"
    }
   ],
   "source": [
    "fig, ax = plt.subplots(figsize=(15,7))\n",
    "plt.hist(nums_less_52, bins=52)\n",
    "plt.title('Lottery Frequency Distribution of Numbers 1-52, From: (2002-05-17 to 2020-03-31)')\n",
    "plt.ylabel('Frequency')\n",
    "plt.xlabel('Lottery Numbers')\n",
    "plt.savefig('../images/fiftynumhist.png')\n",
    "plt.show()"
   ]
  },
  {
   "cell_type": "code",
   "execution_count": 108,
   "metadata": {},
   "outputs": [],
   "source": [
    "#import stats library\n",
    "import scipy.stats as stats"
   ]
  },
  {
   "cell_type": "markdown",
   "metadata": {},
   "source": [
    "# Hypothesis Testing\n",
    "\n",
    "##### Though visually the numbers do seem to have a uniform distribution, we have statistics to provide more clarity and decisive thresholds.\n",
    "\n",
    "For this I will take only the drawings from October 28, 2017 onwards.  Since that is the current lottery makeup of numbers.\n",
    "\n",
    "The underlying assumption of the mega millions lottery is that any number has the same probability of being selected.  Giving that fact we can leverage the power of chi-square test goodness of fit test.\n",
    "\n",
    "<img src='../images/chisq.gif'>"
   ]
  },
  {
   "cell_type": "code",
   "execution_count": 109,
   "metadata": {},
   "outputs": [],
   "source": [
    "test_df = df[df['Draw Date']>='2017-10-28']"
   ]
  },
  {
   "cell_type": "code",
   "execution_count": 110,
   "metadata": {},
   "outputs": [],
   "source": [
    "test_nums = pd.concat([test_df['first'], test_df['second'], test_df['third'], test_df['fourth'], test_df['fifth']], axis=0)\n",
    "val_sorted = test_nums.sort_values()"
   ]
  },
  {
   "cell_type": "code",
   "execution_count": 111,
   "metadata": {},
   "outputs": [],
   "source": [
    "test_num_df = pd.DataFrame(test_nums.value_counts()).reset_index()\n",
    "test_num_df.columns=['number', 'counts']\n",
    "test_num_df.sort_values(by='number', inplace=True)"
   ]
  },
  {
   "cell_type": "markdown",
   "metadata": {},
   "source": [
    "### Model Notation\n",
    "\n",
    "The number of balls chosen at each draw is n=5 (excluding the gold Mega Ball), the total number of balls is N=70.<br>Therefore; p = n/N = 5/70 chance of selection\n",
    "<br>Number of trails: 244\n",
    "<br>The expected frequency is: 17.43"
   ]
  },
  {
   "cell_type": "code",
   "execution_count": 117,
   "metadata": {},
   "outputs": [],
   "source": [
    "num_of_trails = len(test_df)\n",
    "p = 5/70\n",
    "exp = num_of_trails*p"
   ]
  },
  {
   "cell_type": "code",
   "execution_count": 118,
   "metadata": {},
   "outputs": [],
   "source": [
    "test_num_df['expected']= exp"
   ]
  },
  {
   "cell_type": "code",
   "execution_count": 119,
   "metadata": {},
   "outputs": [
    {
     "name": "stdout",
     "output_type": "stream",
     "text": [
      "Number of trails: 244\n",
      "Expected Frequency: 17.43\n"
     ]
    }
   ],
   "source": [
    "print(\"Number of trails: {}\\nExpected Frequency: {:.2f}\".format(num_of_trails, exp))"
   ]
  },
  {
   "cell_type": "markdown",
   "metadata": {},
   "source": [
    "<strong>Null Hypothesis</strong><br>\n",
    "Ho: The numbers occur with equal frequencies, they fit a uniform distribution<br><br>\n",
    "<strong>Alternative Hypothesis</strong><br>\n",
    "H1: The numbers occur with unequal frequencies, they do not fit a uniform distribution<br><br>\n",
    "<strong>Test Statistic</strong><br>\n",
    "Chi-Square Goodness of Fit Test<br><br>\n",
    "<strong>Significance Level</strong><br>\n",
    "Alpha = 0.05"
   ]
  },
  {
   "cell_type": "code",
   "execution_count": 120,
   "metadata": {},
   "outputs": [
    {
     "name": "stdout",
     "output_type": "stream",
     "text": [
      "Chi-squared Test Statistic = 81.54098360655739 p-value = 0.12543345009645046\n"
     ]
    }
   ],
   "source": [
    "t, p = stats.chisquare(test_num_df['counts'], test_num_df['expected'], ddof=1)\n",
    "print('Chi-squared Test Statistic = {} p-value = {}'.format(t, p))"
   ]
  },
  {
   "cell_type": "code",
   "execution_count": 121,
   "metadata": {},
   "outputs": [
    {
     "name": "stdout",
     "output_type": "stream",
     "text": [
      "Fail to reject null hypothesis\n"
     ]
    }
   ],
   "source": [
    "#significance level\n",
    "alpha = 0.05 \n",
    "\n",
    "if p <= alpha:\n",
    "    print('Reject the null hypothesis')\n",
    "else:\n",
    "    print('Fail to reject null hypothesis')"
   ]
  },
  {
   "cell_type": "markdown",
   "metadata": {},
   "source": [
    "Degrees of Freedom (dfs) = 70 - 1 = 69<br>\n",
    "Confidence level = 95%<br>\n",
    "\n",
    "Critical Value From Chi-Square Table: 89.391"
   ]
  },
  {
   "cell_type": "markdown",
   "metadata": {},
   "source": [
    "### Conclusion:\n",
    "\n",
    "Given that the test statistic rendered 81.54 which is to the left (lower) of the critical value from the Chi-Square table of 89.391 and the p-value was greater than 0.05, There is not sufficient evidence to conclude that the lottery drawings numbers do not occur with equal frequencies. "
   ]
  },
  {
   "cell_type": "code",
   "execution_count": 221,
   "metadata": {},
   "outputs": [
    {
     "data": {
      "image/png": "[encoded data removed]",
      "text/plain": [
       "<Figure size 1080x504 with 1 Axes>"
      ]
     },
     "metadata": {},
     "output_type": "display_data"
    }
   ],
   "source": [
    "#plotting the frequency distribution of the lottery numbers \n",
    "fig, ax = plt.subplots()\n",
    "val_sorted.hist(bins=70, figsize=(15,7), xrot=60, ax=ax)\n",
    "plt.title('Lottery Frequency Distribution From: (2017-10-28 to 2020-03-31)', size=18)\n",
    "plt.ylabel('Frequency', size=13)\n",
    "plt.xlabel('Lottery Numbers', size=13)\n",
    "ax.axhline(exp, color='orange', linewidth=4.5, alpha=0.7)\n",
    "label=['Expected Freq']\n",
    "ax.legend(label, fancybox=True, shadow=True, borderpad=0.5, frameon=True, fontsize=14)\n",
    "plt.savefig('../images/newnumhist.png')\n",
    "plt.show()"
   ]
  },
  {
   "cell_type": "code",
   "execution_count": 23,
   "metadata": {},
   "outputs": [],
   "source": [
    "import scipy.special as ss"
   ]
  },
  {
   "cell_type": "markdown",
   "metadata": {},
   "source": [
    "<p>The actual odds of winning are simple to calculate.  Its two nCk combinations.</p>\n",
    "<TABLE>\n",
    "   <TR>    \n",
    "       <TH>Starting Date</TH>\n",
    "       <TH>Pick 5 White Balls From Field of</TH>\n",
    "       <TH>Pick 1 Gold (Mega) Ball From Field of</TH>\n",
    "       <TH>Jackpot odds</TH>\n",
    "   </TR> \n",
    "   <TR>\n",
    "      <TD>October 28, 2017</TD>\n",
    "      <TD>70</TD>\n",
    "      <TD>25</TD>\n",
    "      <TD>1: 302,575,350</TD>\n",
    "   </TR>\n",
    "</TABLE>\n",
    "<img src=\"../images/nck.png\">"
   ]
  },
  {
   "cell_type": "code",
   "execution_count": 24,
   "metadata": {},
   "outputs": [
    {
     "name": "stdout",
     "output_type": "stream",
     "text": [
      "Probability of choosing the winning 5 numbers: 1 in 12,103,014\n",
      "Probability of choosing the picking the Gold Ball number: 1 in 25\n",
      "Probability of choosing Jackpot combination: 1 in 302,575,350\n"
     ]
    }
   ],
   "source": [
    "print(\"Probability of choosing the winning 5 numbers: 1 in {:,.0f}\".format(ss.comb(70,5)))\n",
    "print(\"Probability of choosing the winning Gold Ball number: 1 in {:,.0f}\".format(ss.comb(25,1)))\n",
    "print(\"Probability of choosing Jackpot combination: 1 in {:,.0f}\".format(ss.comb(70,5) * ss.comb(25,1)))"
   ]
  },
  {
   "cell_type": "markdown",
   "metadata": {},
   "source": [
    "# Lets See How Many People Actually Win\n",
    "\n",
    "So now that the null hypothesis was failed to be rejected.  Meaning, there is not enough evidence to say that the numbers do not follow uniform distribution (can occur with equal frequencies). And have derived the actual odds of winning the lottery, lets see how many times it has actually happened. "
   ]
  },
  {
   "cell_type": "code",
   "execution_count": 127,
   "metadata": {},
   "outputs": [],
   "source": [
    "import requests\n",
    "from bs4 import BeautifulSoup as bs"
   ]
  },
  {
   "cell_type": "code",
   "execution_count": 128,
   "metadata": {},
   "outputs": [
    {
     "data": {
      "text/plain": [
       "15"
      ]
     },
     "execution_count": 128,
     "metadata": {},
     "output_type": "execute_result"
    }
   ],
   "source": [
    "#set lottery url to be scraped\n",
    "url = 'https://www.megamillions.com/Winners-Gallery.aspx'\n",
    "#get request\n",
    "response = requests.get(url)\n",
    "#parse html data\n",
    "soup = bs(response.text, 'lxml')\n",
    "pages = soup.select('div.PagerControl')\n",
    "#get the last page of winners\n",
    "lst_num =int(pages[0].select('a')[-1:][0]['href'].split('=')[-1])\n",
    "lst_num"
   ]
  },
  {
   "cell_type": "code",
   "execution_count": 129,
   "metadata": {},
   "outputs": [],
   "source": [
    "names = []\n",
    "\n",
    "#loop through all pages and get winner information and amount\n",
    "for x in range(1,lst_num+1):\n",
    "    w_url = url + '?page=' + str(x)\n",
    "    response = requests.get(w_url)\n",
    "    soup = bs(response.text, 'lxml')\n",
    "    \n",
    "    name = [x.get_text(strip=True) for x in soup.find_all(class_=\"winnerListName\")]\n",
    "    location = [x.get_text(strip=True) for x in soup.find_all(class_=\"winnerListLocation\")]\n",
    "    date = [x.get_text(strip=True) for x in soup.find_all(class_=\"winnerListDate\")]\n",
    "    amount = [x.get_text(strip=True) for x in soup.find_all(class_=\"winnerListPrizeAmt\")]\n",
    "    \n",
    "    data = pd.DataFrame({\n",
    "        'name':name,\n",
    "        'location': location,\n",
    "        'date':date,\n",
    "        'amount':amount\n",
    "        })\n",
    "    names.append(data)"
   ]
  },
  {
   "cell_type": "code",
   "execution_count": 398,
   "metadata": {},
   "outputs": [
    {
     "data": {
      "text/html": [
       "<div>\n",
       "<style scoped>\n",
       "    .dataframe tbody tr th:only-of-type {\n",
       "        vertical-align: middle;\n",
       "    }\n",
       "\n",
       "    .dataframe tbody tr th {\n",
       "        vertical-align: top;\n",
       "    }\n",
       "\n",
       "    .dataframe thead th {\n",
       "        text-align: right;\n",
       "    }\n",
       "</style>\n",
       "<table border=\"1\" class=\"dataframe\">\n",
       "  <thead>\n",
       "    <tr style=\"text-align: right;\">\n",
       "      <th></th>\n",
       "      <th>name</th>\n",
       "      <th>location</th>\n",
       "      <th>date</th>\n",
       "      <th>amount</th>\n",
       "    </tr>\n",
       "  </thead>\n",
       "  <tbody>\n",
       "    <tr>\n",
       "      <td>0</td>\n",
       "      <td>Bob Ogrodnik &amp; Bill Schouboe</td>\n",
       "      <td>Virginia Beach, VA</td>\n",
       "      <td>1/14/2020</td>\n",
       "      <td>$1 Million</td>\n",
       "    </tr>\n",
       "    <tr>\n",
       "      <td>1</td>\n",
       "      <td>Just Us</td>\n",
       "      <td>Eldora, IA</td>\n",
       "      <td>12/17/2019</td>\n",
       "      <td>$1 Million</td>\n",
       "    </tr>\n",
       "    <tr>\n",
       "      <td>2</td>\n",
       "      <td>David Burnette</td>\n",
       "      <td>Newport, NC</td>\n",
       "      <td>12/6/2019</td>\n",
       "      <td>$50,000</td>\n",
       "    </tr>\n",
       "    <tr>\n",
       "      <td>3</td>\n",
       "      <td>Dave Hodges</td>\n",
       "      <td>Suffolk, VA</td>\n",
       "      <td>10/29/2019</td>\n",
       "      <td>$1 Million</td>\n",
       "    </tr>\n",
       "    <tr>\n",
       "      <td>4</td>\n",
       "      <td>Robert Calfee</td>\n",
       "      <td>Park City, KY</td>\n",
       "      <td>10/11/2019</td>\n",
       "      <td>$1 Million</td>\n",
       "    </tr>\n",
       "  </tbody>\n",
       "</table>\n",
       "</div>"
      ],
      "text/plain": [
       "                           name            location        date      amount\n",
       "0  Bob Ogrodnik & Bill Schouboe  Virginia Beach, VA   1/14/2020  $1 Million\n",
       "1                       Just Us          Eldora, IA  12/17/2019  $1 Million\n",
       "2                David Burnette         Newport, NC   12/6/2019     $50,000\n",
       "3                   Dave Hodges         Suffolk, VA  10/29/2019  $1 Million\n",
       "4                 Robert Calfee       Park City, KY  10/11/2019  $1 Million"
      ]
     },
     "execution_count": 398,
     "metadata": {},
     "output_type": "execute_result"
    }
   ],
   "source": [
    "w_df = pd.concat(names)\n",
    "w_df.head()"
   ]
  },
  {
   "cell_type": "code",
   "execution_count": 399,
   "metadata": {},
   "outputs": [],
   "source": [
    "#split the location column, into city and state\n",
    "w_df[['amount', 'unit']] = w_df.loc[:,'amount'].apply(lambda x: pd.Series(str(x).split(' ')))\n",
    "w_df[['city', 'state']] = w_df.loc[:,'location'].apply(lambda x: pd.Series(str(x).split(',')))\n",
    "w_df['amount'] = round(pd.to_numeric(w_df.loc[:,'amount'].replace({'\\$': '', ',': ''}, regex=True), downcast='float'), 2)\n",
    "w_df['amount'] = [x*1000000 if len(str(x)) <= 5 else x for x in w_df['amount']]\n",
    "w_df['unit'] = w_df.loc[:,'unit'].fillna(value='Thousand')\n",
    "w_df['date'] = pd.to_datetime(w_df['date'])"
   ]
  },
  {
   "cell_type": "code",
   "execution_count": 400,
   "metadata": {},
   "outputs": [],
   "source": [
    "#minor data manipulation; replace Maryland to MD and Mi to MI (webdata is messy no matter the website)\n",
    "w_df['state'].replace({'Maryland':'MD', 'Mi':'MI'}, regex=True, inplace=True)"
   ]
  },
  {
   "cell_type": "code",
   "execution_count": 401,
   "metadata": {},
   "outputs": [],
   "source": [
    "w_df['month'] = w_df['date'].dt.month\n",
    "w_df['day'] = w_df['date'].dt.day\n",
    "w_df['year'] = w_df['date'].dt.year\n",
    "w_df['dayofweek'] = w_df['date'].dt.weekday_name"
   ]
  },
  {
   "cell_type": "code",
   "execution_count": 499,
   "metadata": {},
   "outputs": [
    {
     "data": {
      "text/html": [
       "<div>\n",
       "<style scoped>\n",
       "    .dataframe tbody tr th:only-of-type {\n",
       "        vertical-align: middle;\n",
       "    }\n",
       "\n",
       "    .dataframe tbody tr th {\n",
       "        vertical-align: top;\n",
       "    }\n",
       "\n",
       "    .dataframe thead th {\n",
       "        text-align: right;\n",
       "    }\n",
       "</style>\n",
       "<table border=\"1\" class=\"dataframe\">\n",
       "  <thead>\n",
       "    <tr style=\"text-align: right;\">\n",
       "      <th></th>\n",
       "      <th>name</th>\n",
       "      <th>location</th>\n",
       "      <th>date</th>\n",
       "      <th>amount</th>\n",
       "      <th>unit</th>\n",
       "      <th>city</th>\n",
       "      <th>state</th>\n",
       "      <th>month</th>\n",
       "      <th>day</th>\n",
       "      <th>year</th>\n",
       "      <th>dayofweek</th>\n",
       "    </tr>\n",
       "  </thead>\n",
       "  <tbody>\n",
       "    <tr>\n",
       "      <td>0</td>\n",
       "      <td>Bob Ogrodnik &amp; Bill Schouboe</td>\n",
       "      <td>Virginia Beach, VA</td>\n",
       "      <td>2020-01-14</td>\n",
       "      <td>1000000.0</td>\n",
       "      <td>Million</td>\n",
       "      <td>Virginia Beach</td>\n",
       "      <td>VA</td>\n",
       "      <td>1</td>\n",
       "      <td>14</td>\n",
       "      <td>2020</td>\n",
       "      <td>Tuesday</td>\n",
       "    </tr>\n",
       "    <tr>\n",
       "      <td>1</td>\n",
       "      <td>Just Us</td>\n",
       "      <td>Eldora, IA</td>\n",
       "      <td>2019-12-17</td>\n",
       "      <td>1000000.0</td>\n",
       "      <td>Million</td>\n",
       "      <td>Eldora</td>\n",
       "      <td>IA</td>\n",
       "      <td>12</td>\n",
       "      <td>17</td>\n",
       "      <td>2019</td>\n",
       "      <td>Tuesday</td>\n",
       "    </tr>\n",
       "    <tr>\n",
       "      <td>2</td>\n",
       "      <td>David Burnette</td>\n",
       "      <td>Newport, NC</td>\n",
       "      <td>2019-12-06</td>\n",
       "      <td>50000.0</td>\n",
       "      <td>Thousand</td>\n",
       "      <td>Newport</td>\n",
       "      <td>NC</td>\n",
       "      <td>12</td>\n",
       "      <td>6</td>\n",
       "      <td>2019</td>\n",
       "      <td>Friday</td>\n",
       "    </tr>\n",
       "    <tr>\n",
       "      <td>3</td>\n",
       "      <td>Dave Hodges</td>\n",
       "      <td>Suffolk, VA</td>\n",
       "      <td>2019-10-29</td>\n",
       "      <td>1000000.0</td>\n",
       "      <td>Million</td>\n",
       "      <td>Suffolk</td>\n",
       "      <td>VA</td>\n",
       "      <td>10</td>\n",
       "      <td>29</td>\n",
       "      <td>2019</td>\n",
       "      <td>Tuesday</td>\n",
       "    </tr>\n",
       "    <tr>\n",
       "      <td>4</td>\n",
       "      <td>Robert Calfee</td>\n",
       "      <td>Park City, KY</td>\n",
       "      <td>2019-10-11</td>\n",
       "      <td>1000000.0</td>\n",
       "      <td>Million</td>\n",
       "      <td>Park City</td>\n",
       "      <td>KY</td>\n",
       "      <td>10</td>\n",
       "      <td>11</td>\n",
       "      <td>2019</td>\n",
       "      <td>Friday</td>\n",
       "    </tr>\n",
       "  </tbody>\n",
       "</table>\n",
       "</div>"
      ],
      "text/plain": [
       "                           name            location       date     amount  \\\n",
       "0  Bob Ogrodnik & Bill Schouboe  Virginia Beach, VA 2020-01-14  1000000.0   \n",
       "1                       Just Us          Eldora, IA 2019-12-17  1000000.0   \n",
       "2                David Burnette         Newport, NC 2019-12-06    50000.0   \n",
       "3                   Dave Hodges         Suffolk, VA 2019-10-29  1000000.0   \n",
       "4                 Robert Calfee       Park City, KY 2019-10-11  1000000.0   \n",
       "\n",
       "       unit            city state  month  day  year dayofweek  \n",
       "0   Million  Virginia Beach    VA      1   14  2020   Tuesday  \n",
       "1   Million          Eldora    IA     12   17  2019   Tuesday  \n",
       "2  Thousand         Newport    NC     12    6  2019    Friday  \n",
       "3   Million         Suffolk    VA     10   29  2019   Tuesday  \n",
       "4   Million       Park City    KY     10   11  2019    Friday  "
      ]
     },
     "execution_count": 499,
     "metadata": {},
     "output_type": "execute_result"
    }
   ],
   "source": [
    "w_df.head()"
   ]
  },
  {
   "cell_type": "code",
   "execution_count": 134,
   "metadata": {},
   "outputs": [
    {
     "name": "stdout",
     "output_type": "stream",
     "text": [
      "<class 'pandas.core.frame.DataFrame'>\n",
      "Int64Index: 281 entries, 0 to 0\n",
      "Data columns (total 7 columns):\n",
      "name        281 non-null object\n",
      "location    281 non-null object\n",
      "date        281 non-null datetime64[ns]\n",
      "amount      281 non-null float64\n",
      "unit        281 non-null object\n",
      "city        281 non-null object\n",
      "state       281 non-null object\n",
      "dtypes: datetime64[ns](1), float64(1), object(5)\n",
      "memory usage: 17.6+ KB\n"
     ]
    }
   ],
   "source": [
    "w_df.info()"
   ]
  },
  {
   "cell_type": "code",
   "execution_count": 583,
   "metadata": {},
   "outputs": [],
   "source": [
    "# dt_df=w_df.set_index('date')\n",
    "w_df.to_csv('../data/lotto_winners.csv', index=False)"
   ]
  },
  {
   "cell_type": "code",
   "execution_count": 503,
   "metadata": {},
   "outputs": [
    {
     "data": {
      "text/html": [
       "<div>\n",
       "<style scoped>\n",
       "    .dataframe tbody tr th:only-of-type {\n",
       "        vertical-align: middle;\n",
       "    }\n",
       "\n",
       "    .dataframe tbody tr th {\n",
       "        vertical-align: top;\n",
       "    }\n",
       "\n",
       "    .dataframe thead th {\n",
       "        text-align: right;\n",
       "    }\n",
       "</style>\n",
       "<table border=\"1\" class=\"dataframe\">\n",
       "  <thead>\n",
       "    <tr style=\"text-align: right;\">\n",
       "      <th></th>\n",
       "      <th>name</th>\n",
       "      <th>location</th>\n",
       "      <th>date</th>\n",
       "      <th>amount</th>\n",
       "      <th>unit</th>\n",
       "      <th>city</th>\n",
       "      <th>state</th>\n",
       "      <th>month</th>\n",
       "      <th>day</th>\n",
       "      <th>year</th>\n",
       "      <th>dayofweek</th>\n",
       "    </tr>\n",
       "  </thead>\n",
       "  <tbody>\n",
       "    <tr>\n",
       "      <td>9</td>\n",
       "      <td>Gloria Swanigan</td>\n",
       "      <td>San Pedro, CA</td>\n",
       "      <td>2015-03-10</td>\n",
       "      <td>1.1</td>\n",
       "      <td>Million</td>\n",
       "      <td>San Pedro</td>\n",
       "      <td>CA</td>\n",
       "      <td>3</td>\n",
       "      <td>10</td>\n",
       "      <td>2015</td>\n",
       "      <td>Tuesday</td>\n",
       "    </tr>\n",
       "  </tbody>\n",
       "</table>\n",
       "</div>"
      ],
      "text/plain": [
       "              name       location       date  amount     unit       city  \\\n",
       "9  Gloria Swanigan  San Pedro, CA 2015-03-10     1.1  Million  San Pedro   \n",
       "\n",
       "  state  month  day  year dayofweek  \n",
       "9    CA      3   10  2015   Tuesday  "
      ]
     },
     "execution_count": 503,
     "metadata": {},
     "output_type": "execute_result"
    }
   ],
   "source": [
    "#summary statistics\n",
    "min_jackpot=40000000\n",
    "#number of jackpot winners\n",
    "num_of_jp_winners= w_df[w_df['amount']>=min_jackpot]\n",
    "#information about the maximum jackpot paid out\n",
    "max_winner = w_df[w_df['amount']==w_df['amount'].max()]\n",
    "w_df[w_df['amount']==w_df['amount'].min()]"
   ]
  },
  {
   "cell_type": "code",
   "execution_count": 483,
   "metadata": {},
   "outputs": [],
   "source": [
    "#grouped data by year\n",
    "y_data = w_df.groupby('year', as_index=False)['amount'].sum()\n",
    "y_data['amount'] =y_data['amount'].apply(lambda x: x/1000000)\n",
    "\n",
    "#grouped data by month\n",
    "m_data = w_df.groupby('month', as_index=False)['amount'].sum()\n",
    "m_data['amount'] =m_data['amount'].apply(lambda x: x/1000000)\n",
    "\n",
    "#grouped data by day\n",
    "d_data = w_df.groupby('dayofweek')['amount'].sum()"
   ]
  },
  {
   "cell_type": "code",
   "execution_count": 581,
   "metadata": {},
   "outputs": [],
   "source": [
    "#ealiest winner in the dataframe\n",
    "From =str(dt_df.index.min())[:10]\n",
    "#last person to have won\n",
    "Last_Winner =str(w_df['date'].max())[:10]\n",
    "#total amount paid out \n",
    "Amount =w_df['amount'].sum().round()"
   ]
  },
  {
   "cell_type": "code",
   "execution_count": 591,
   "metadata": {},
   "outputs": [
    {
     "name": "stdout",
     "output_type": "stream",
     "text": [
      "***************** SUMMARY STATISTICS *****************\n",
      "                   As of: 2012-03-30\n",
      "\n",
      "Total Number of Jackpot Winners: 34\n",
      "Jackpot Amounts Paid Won: $6,885,000,000\n",
      "The Total Amount Paid Out: $7,389,710,990\n",
      "Largest Jackpot Awarded: $536,000,000\n",
      "Occured On: 2016-07-08\n",
      "Last Winner Occured On: 2020-01-14\n"
     ]
    }
   ],
   "source": [
    "print(\"***************** SUMMARY STATISTICS *****************\")\n",
    "print(\"                   As of: {}\\n\".format(From))\n",
    "print(\"Total Number of Jackpot Winners: {}\".format(len(num_of_jp_winners)))\n",
    "print(\"Jackpot Amounts Paid Won: ${:,.0f}\".format(num_of_jp_winners['amount'].sum()))\n",
    "print(\"The Total Amount Paid Out: ${:,.0f}\".format(Amount))\n",
    "print(\"Largest Jackpot Awarded: ${:,.0f}\".format(int(max_winner['amount'])))\n",
    "print(\"Occured On: {}\".format(str(max_winner['date'])[4:14]))\n",
    "print(\"Last Winner Occured On: {}\".format(Last_Winner))"
   ]
  },
  {
   "cell_type": "code",
   "execution_count": 584,
   "metadata": {},
   "outputs": [
    {
     "data": {
      "text/html": [
       "<div>\n",
       "<style scoped>\n",
       "    .dataframe tbody tr th:only-of-type {\n",
       "        vertical-align: middle;\n",
       "    }\n",
       "\n",
       "    .dataframe tbody tr th {\n",
       "        vertical-align: top;\n",
       "    }\n",
       "\n",
       "    .dataframe thead th {\n",
       "        text-align: right;\n",
       "    }\n",
       "</style>\n",
       "<table border=\"1\" class=\"dataframe\">\n",
       "  <thead>\n",
       "    <tr style=\"text-align: right;\">\n",
       "      <th></th>\n",
       "      <th>name</th>\n",
       "      <th>location</th>\n",
       "      <th>date</th>\n",
       "      <th>amount</th>\n",
       "      <th>unit</th>\n",
       "      <th>city</th>\n",
       "      <th>state</th>\n",
       "      <th>month</th>\n",
       "      <th>day</th>\n",
       "      <th>year</th>\n",
       "      <th>dayofweek</th>\n",
       "    </tr>\n",
       "  </thead>\n",
       "  <tbody>\n",
       "    <tr>\n",
       "      <td>7</td>\n",
       "      <td>Warren D, LLC</td>\n",
       "      <td>Cambridge City, IN</td>\n",
       "      <td>2016-07-08</td>\n",
       "      <td>536000000.0</td>\n",
       "      <td>Million</td>\n",
       "      <td>Cambridge City</td>\n",
       "      <td>IN</td>\n",
       "      <td>7</td>\n",
       "      <td>8</td>\n",
       "      <td>2016</td>\n",
       "      <td>Friday</td>\n",
       "    </tr>\n",
       "  </tbody>\n",
       "</table>\n",
       "</div>"
      ],
      "text/plain": [
       "            name            location       date       amount     unit  \\\n",
       "7  Warren D, LLC  Cambridge City, IN 2016-07-08  536000000.0  Million   \n",
       "\n",
       "             city state  month  day  year dayofweek  \n",
       "7  Cambridge City    IN      7    8  2016    Friday  "
      ]
     },
     "execution_count": 584,
     "metadata": {},
     "output_type": "execute_result"
    }
   ],
   "source": [
    "max_winner"
   ]
  },
  {
   "cell_type": "code",
   "execution_count": 497,
   "metadata": {},
   "outputs": [
    {
     "data": {
      "image/png": "[encoded data removed]",
      "text/plain": [
       "<Figure size 1008x576 with 1 Axes>"
      ]
     },
     "metadata": {},
     "output_type": "display_data"
    }
   ],
   "source": [
    "fig, ax =plt.subplots(figsize=(14,8))\n",
    "#filter data\n",
    "datay = w_df.groupby('year')['amount'].sum()\n",
    "#convert amount by dividing by 1 million\n",
    "datay.apply(lambda x: x/1000000).plot(kind='bar', ax=ax, rot=40)\n",
    "#format y axis label\n",
    "ax.yaxis.set_major_formatter(ticker.FuncFormatter(lambda x, p: format(int(x), ',')))\n",
    "#set title\n",
    "ax.set_title('Mega Millions Lottery Payout By Year, As Of: {}'.format(From), size=18)\n",
    "#set ylabel\n",
    "ax.set_ylabel('Million ($)', size=14)\n",
    "#set xlabel\n",
    "ax.set_xlabel('Years', size=14)\n",
    "#save image to images folder\n",
    "plt.savefig('../images/mm_payout.png')\n",
    "plt.show()"
   ]
  },
  {
   "cell_type": "code",
   "execution_count": 493,
   "metadata": {},
   "outputs": [
    {
     "data": {
      "image/png": "[encoded data removed]",
      "text/plain": [
       "<Figure size 1008x576 with 1 Axes>"
      ]
     },
     "metadata": {},
     "output_type": "display_data"
    }
   ],
   "source": [
    "fig, ax= plt.subplots()\n",
    "#filtered data\n",
    "m_data['amount'].plot(kind='bar', rot=40, ax=ax, figsize=(14,8))\n",
    "#assign month names\n",
    "months = ['January', 'February', 'March', 'April', 'May', 'June', 'July',\n",
    "          'August', 'September', 'October', 'November', 'December']\n",
    "plt.xticks(range(12), months)\n",
    "#format y axis label\n",
    "ax.yaxis.set_major_formatter(ticker.FuncFormatter(lambda x, p: format(int(x), ',')))\n",
    "#set title\n",
    "ax.set_title('Mega Millions Lottery Payout By Month, As Of: {}'.format(From), size=18)\n",
    "#set ylabel\n",
    "ax.set_ylabel('Million ($)', size=14)\n",
    "#set xlabel\n",
    "ax.set_xlabel('Months', size=14)\n",
    "#save image to images folder\n",
    "plt.savefig('../images/mm_monthly_payout.png')\n",
    "plt.show()"
   ]
  },
  {
   "cell_type": "code",
   "execution_count": 592,
   "metadata": {},
   "outputs": [
    {
     "data": {
      "image/png": "[encoded data removed]",
      "text/plain": [
       "<Figure size 1008x576 with 1 Axes>"
      ]
     },
     "metadata": {},
     "output_type": "display_data"
    }
   ],
   "source": [
    "fig, ax= plt.subplots()\n",
    "#filtered data\n",
    "d_data.plot(kind='bar', rot=0, ax=ax, figsize=(14,8))\n",
    "#format y axis label\n",
    "ax.yaxis.set_major_formatter(ticker.FuncFormatter(lambda x, p: format(int(x), ',')))\n",
    "#set title\n",
    "ax.set_title('Mega Millions Lottery Payout By Day, As Of: {}'.format(From), size=18)\n",
    "#set ylabel\n",
    "ax.set_ylabel('Million ($)', size=14)\n",
    "#set xlabel\n",
    "ax.set_xlabel('Days', size=14)\n",
    "#save image to images folder\n",
    "plt.savefig('../images/mm_day_payout.png')\n",
    "plt.show()"
   ]
  },
  {
   "cell_type": "code",
   "execution_count": null,
   "metadata": {},
   "outputs": [],
   "source": []
  }
 ],
 "metadata": {
  "kernelspec": {
   "display_name": "Python 3",
   "language": "python",
   "name": "python3"
  },
  "language_info": {
   "codemirror_mode": {
    "name": "ipython",
    "version": 3
   },
   "file_extension": ".py",
   "mimetype": "text/x-python",
   "name": "python",
   "nbconvert_exporter": "python",
   "pygments_lexer": "ipython3",
   "version": "3.7.4"
  }
 },
 "nbformat": 4,
 "nbformat_minor": 2
}
